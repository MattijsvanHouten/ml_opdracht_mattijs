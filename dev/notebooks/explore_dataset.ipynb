{
 "cells": [
  {
   "cell_type": "code",
   "execution_count": 2,
   "metadata": {},
   "outputs": [],
   "source": [
    "import sys\n",
    "sys.path.insert(0, \"../..\")"
   ]
  },
  {
   "cell_type": "code",
   "execution_count": 3,
   "metadata": {},
   "outputs": [],
   "source": [
    "from src.datasets import get_arabic\n",
    "from src.settings import presets"
   ]
  },
  {
   "cell_type": "code",
   "execution_count": 4,
   "metadata": {},
   "outputs": [
    {
     "data": {
      "text/plain": [
       "Settings(datadir=PosixPath('/home/azureuser/MLopdracht/data/raw'), testurl=HttpUrl('https://archive.ics.uci.edu/ml/machine-learning-databases/00195/Test_Arabic_Digit.txt', ), trainurl=HttpUrl('https://archive.ics.uci.edu/ml/machine-learning-databases/00195/Train_Arabic_Digit.txt', ), testfile=PosixPath('ArabicTest.txt'), trainfile=PosixPath('ArabicTrain.txt'), modeldir=PosixPath('/home/azureuser/MLopdracht/models'), logdir=PosixPath('/home/azureuser/MLopdracht/logs'), modelname='model.pt', batchsize=64)"
      ]
     },
     "execution_count": 4,
     "metadata": {},
     "output_type": "execute_result"
    }
   ],
   "source": [
    "presets"
   ]
  },
  {
   "cell_type": "code",
   "execution_count": 5,
   "metadata": {},
   "outputs": [
    {
     "name": "stderr",
     "output_type": "stream",
     "text": [
      "\u001b[32m2023-06-09 08:18:56.518\u001b[0m | \u001b[1mINFO    \u001b[0m | \u001b[36msrc.data_tools\u001b[0m:\u001b[36mget_file\u001b[0m:\u001b[36m61\u001b[0m - \u001b[1mFile /home/azureuser/MLopdracht/data/raw/ArabicTrain.txt already exists, skip download\u001b[0m\n",
      "\u001b[32m2023-06-09 08:18:56.522\u001b[0m | \u001b[1mINFO    \u001b[0m | \u001b[36msrc.data_tools\u001b[0m:\u001b[36mget_file\u001b[0m:\u001b[36m61\u001b[0m - \u001b[1mFile /home/azureuser/MLopdracht/data/raw/ArabicTest.txt already exists, skip download\u001b[0m\n",
      "\u001b[32m2023-06-09 08:18:56.523\u001b[0m | \u001b[1mINFO    \u001b[0m | \u001b[36msrc.datasets\u001b[0m:\u001b[36mget_arabic\u001b[0m:\u001b[36m33\u001b[0m - \u001b[1mLoading data from /home/azureuser/MLopdracht/data/raw/ArabicTrain.txt and /home/azureuser/MLopdracht/data/raw/ArabicTest.txt\u001b[0m\n",
      "\u001b[32m2023-06-09 08:18:57.704\u001b[0m | \u001b[1mINFO    \u001b[0m | \u001b[36msrc.datasets\u001b[0m:\u001b[36mget_arabic\u001b[0m:\u001b[36m49\u001b[0m - \u001b[1mReturning trainstreamer, teststreamer\u001b[0m\n"
     ]
    }
   ],
   "source": [
    "trainstreamer, teststreamer = get_arabic(presets)"
   ]
  },
  {
   "cell_type": "code",
   "execution_count": 6,
   "metadata": {},
   "outputs": [
    {
     "data": {
      "text/plain": [
       "(torch.Size([64, 64, 13]), torch.Size([64]))"
      ]
     },
     "execution_count": 6,
     "metadata": {},
     "output_type": "execute_result"
    }
   ],
   "source": [
    "x, y = next(iter(trainstreamer.stream()))\n",
    "x.shape, y.shape"
   ]
  },
  {
   "cell_type": "code",
   "execution_count": null,
   "metadata": {},
   "outputs": [],
   "source": []
  }
 ],
 "metadata": {
  "kernelspec": {
   "display_name": "Python 3",
   "language": "python",
   "name": "python3"
  },
  "language_info": {
   "codemirror_mode": {
    "name": "ipython",
    "version": 3
   },
   "file_extension": ".py",
   "mimetype": "text/x-python",
   "name": "python",
   "nbconvert_exporter": "python",
   "pygments_lexer": "ipython3",
   "version": "3.9.16"
  },
  "orig_nbformat": 4
 },
 "nbformat": 4,
 "nbformat_minor": 2
}
